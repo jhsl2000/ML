{
  "nbformat": 4,
  "nbformat_minor": 0,
  "metadata": {
    "colab": {
      "provenance": [],
      "gpuType": "T4",
      "authorship_tag": "ABX9TyPEobg+BcTlvM7pI6ejFyB7"
    },
    "kernelspec": {
      "name": "python3",
      "display_name": "Python 3"
    },
    "language_info": {
      "name": "python"
    },
    "accelerator": "GPU"
  },
  "cells": [
    {
      "cell_type": "markdown",
      "source": [
        "https://gymnasium.farama.org/environments/classic_control/mountain_car/"
      ],
      "metadata": {
        "id": "4oP0OUuQhJye"
      }
    },
    {
      "cell_type": "code",
      "execution_count": 1,
      "metadata": {
        "colab": {
          "base_uri": "https://localhost:8080/"
        },
        "id": "NM9Bx4Paga1L",
        "outputId": "ba26d9a9-e031-4026-bb99-077a2a39d4fb"
      },
      "outputs": [
        {
          "output_type": "stream",
          "name": "stdout",
          "text": [
            "Requirement already satisfied: gym in /usr/local/lib/python3.10/dist-packages (0.25.2)\n",
            "Requirement already satisfied: numpy>=1.18.0 in /usr/local/lib/python3.10/dist-packages (from gym) (1.23.5)\n",
            "Requirement already satisfied: cloudpickle>=1.2.0 in /usr/local/lib/python3.10/dist-packages (from gym) (2.2.1)\n",
            "Requirement already satisfied: gym-notices>=0.0.4 in /usr/local/lib/python3.10/dist-packages (from gym) (0.0.8)\n",
            "Requirement already satisfied: pygame in /usr/local/lib/python3.10/dist-packages (2.5.2)\n"
          ]
        }
      ],
      "source": [
        "# install OpenGymAI module\n",
        "!pip install gym\n",
        "!pip install pygame"
      ]
    },
    {
      "cell_type": "code",
      "source": [
        "import gym # toolkit which provides environment to test RL algorithms"
      ],
      "metadata": {
        "id": "La1PnHyCgk1S"
      },
      "execution_count": 2,
      "outputs": []
    },
    {
      "cell_type": "code",
      "source": [
        "env = gym.make('MountainCar-v0') # initialise the environment"
      ],
      "metadata": {
        "colab": {
          "base_uri": "https://localhost:8080/"
        },
        "id": "jUhQ5V6kgplu",
        "outputId": "a74be665-3afd-4b7d-ec4e-e90425f0c3cb"
      },
      "execution_count": 3,
      "outputs": [
        {
          "output_type": "stream",
          "name": "stderr",
          "text": [
            "/usr/local/lib/python3.10/dist-packages/gym/core.py:317: DeprecationWarning: \u001b[33mWARN: Initializing wrapper in old step API which returns one bool instead of two. It is recommended to set `new_step_api=True` to use new step API. This will be the default behaviour in future.\u001b[0m\n",
            "  deprecation(\n",
            "/usr/local/lib/python3.10/dist-packages/gym/wrappers/step_api_compatibility.py:39: DeprecationWarning: \u001b[33mWARN: Initializing environment in old step API which returns one bool instead of two. It is recommended to set `new_step_api=True` to use new step API. This will be the default behaviour in future.\u001b[0m\n",
            "  deprecation(\n"
          ]
        }
      ]
    },
    {
      "cell_type": "code",
      "source": [
        "env.reset() # reset the environment"
      ],
      "metadata": {
        "colab": {
          "base_uri": "https://localhost:8080/"
        },
        "id": "0X-txUP6g0SP",
        "outputId": "4131fd65-7090-4b91-bfb0-28c105738930"
      },
      "execution_count": 4,
      "outputs": [
        {
          "output_type": "execute_result",
          "data": {
            "text/plain": [
              "array([-0.43972886,  0.        ], dtype=float32)"
            ]
          },
          "metadata": {},
          "execution_count": 4
        }
      ]
    },
    {
      "cell_type": "code",
      "source": [
        "# env.render() # render the environment\n",
        "# env.close() # close the environment"
      ],
      "metadata": {
        "id": "5GjVCq5Vg6Tx"
      },
      "execution_count": 5,
      "outputs": []
    },
    {
      "cell_type": "code",
      "source": [
        "# the actions that the agent in the environment can take\n",
        "env.action_space # total action space"
      ],
      "metadata": {
        "colab": {
          "base_uri": "https://localhost:8080/"
        },
        "id": "aGG39hYug65v",
        "outputId": "e5781d11-a135-42f1-8adf-377b915e9c16"
      },
      "execution_count": 6,
      "outputs": [
        {
          "output_type": "execute_result",
          "data": {
            "text/plain": [
              "Discrete(3)"
            ]
          },
          "metadata": {},
          "execution_count": 6
        }
      ]
    },
    {
      "cell_type": "code",
      "source": [
        "# as per the description the car(agent) can do following actions in step:\n",
        "# move left - 0\n",
        "# stand still - 1\n",
        "# move right - 2\n",
        "env.action_space.n"
      ],
      "metadata": {
        "colab": {
          "base_uri": "https://localhost:8080/"
        },
        "id": "M2kaPRcXhDqJ",
        "outputId": "00929ca1-4113-4e1b-a76f-0eed9ffe889c"
      },
      "execution_count": 7,
      "outputs": [
        {
          "output_type": "execute_result",
          "data": {
            "text/plain": [
              "3"
            ]
          },
          "metadata": {},
          "execution_count": 7
        }
      ]
    },
    {
      "cell_type": "code",
      "source": [
        "# the total observations' range of the agent from low to high\n",
        "# the observations are [position along x-axis, velocity]\n",
        "env.observation_space"
      ],
      "metadata": {
        "colab": {
          "base_uri": "https://localhost:8080/"
        },
        "id": "zFh6i3nNhNyx",
        "outputId": "c2e5b9b0-c0be-4607-bd93-ea1c9a5e6242"
      },
      "execution_count": 8,
      "outputs": [
        {
          "output_type": "execute_result",
          "data": {
            "text/plain": [
              "Box([-1.2  -0.07], [0.6  0.07], (2,), float32)"
            ]
          },
          "metadata": {},
          "execution_count": 8
        }
      ]
    },
    {
      "cell_type": "code",
      "source": [
        "# low observation space\n",
        "env.observation_space.low"
      ],
      "metadata": {
        "colab": {
          "base_uri": "https://localhost:8080/"
        },
        "id": "NZCnongHjLut",
        "outputId": "85f5e6f7-93e7-4f2c-aa6d-00c2812067f2"
      },
      "execution_count": 9,
      "outputs": [
        {
          "output_type": "execute_result",
          "data": {
            "text/plain": [
              "array([-1.2 , -0.07], dtype=float32)"
            ]
          },
          "metadata": {},
          "execution_count": 9
        }
      ]
    },
    {
      "cell_type": "code",
      "source": [
        "# high observation space\n",
        "env.observation_space.high"
      ],
      "metadata": {
        "colab": {
          "base_uri": "https://localhost:8080/"
        },
        "id": "Lo-S3boijLz4",
        "outputId": "9d4372b5-4c15-4e6b-c0fb-077340caac04"
      },
      "execution_count": 10,
      "outputs": [
        {
          "output_type": "execute_result",
          "data": {
            "text/plain": [
              "array([0.6 , 0.07], dtype=float32)"
            ]
          },
          "metadata": {},
          "execution_count": 10
        }
      ]
    },
    {
      "cell_type": "code",
      "source": [
        "env.reset()\n",
        "\n",
        "done = False\n",
        "while not done:\n",
        "    action = 2 # always go right\n",
        "    # every step for an action gives us:\n",
        "    # the new state of the agent\n",
        "    # the reard for taking the step\n",
        "    # whether the job is done or not, even if episodes/iterations exhaust\n",
        "    # miscellaneous pther attributes\n",
        "    new_state, reward, done, _ = env.step(action)\n",
        "    env.render()\n",
        "    print(reward, new_state, done)\n",
        "\n",
        "env.close()"
      ],
      "metadata": {
        "id": "976lbwhoQEYp",
        "colab": {
          "base_uri": "https://localhost:8080/"
        },
        "outputId": "715f6e7d-d342-49bc-83b1-86d80e11e9f7"
      },
      "execution_count": 11,
      "outputs": [
        {
          "output_type": "stream",
          "name": "stderr",
          "text": [
            "/usr/local/lib/python3.10/dist-packages/gym/core.py:49: DeprecationWarning: \u001b[33mWARN: You are calling render method, but you didn't specified the argument render_mode at environment initialization. To maintain backward compatibility, the environment will render in human mode.\n",
            "If you want to render in human mode, initialize the environment in this way: gym.make('EnvName', render_mode='human') and don't call the render method.\n",
            "See here for more information: https://www.gymlibrary.ml/content/api/\u001b[0m\n",
            "  deprecation(\n"
          ]
        },
        {
          "output_type": "stream",
          "name": "stdout",
          "text": [
            "-1.0 [-0.58517957  0.00147007] False\n",
            "-1.0 [-0.58225024  0.0029293 ] False\n",
            "-1.0 [-0.5778833   0.00436692] False\n",
            "-1.0 [-0.57211107  0.00577226] False\n",
            "-1.0 [-0.5649763   0.00713482] False\n",
            "-1.0 [-0.5565319   0.00844435] False\n",
            "-1.0 [-0.54684097  0.00969095] False\n",
            "-1.0 [-0.5359758   0.01086512] False\n",
            "-1.0 [-0.52401793  0.01195793] False\n",
            "-1.0 [-0.51105684  0.01296107] False\n",
            "-1.0 [-0.49718982  0.01386703] False\n",
            "-1.0 [-0.48252064  0.01466917] False\n",
            "-1.0 [-0.46715876  0.01536186] False\n",
            "-1.0 [-0.4512182   0.01594058] False\n",
            "-1.0 [-0.4348162   0.01640198] False\n",
            "-1.0 [-0.41807225  0.01674396] False\n",
            "-1.0 [-0.4011066   0.01696566] False\n",
            "-1.0 [-0.38403907  0.01706751] False\n",
            "-1.0 [-0.36698794  0.01705112] False\n",
            "-1.0 [-0.35006866  0.01691928] False\n",
            "-1.0 [-0.33339286  0.0166758 ] False\n",
            "-1.0 [-0.31706744  0.01632542] False\n",
            "-1.0 [-0.30119377  0.01587366] False\n",
            "-1.0 [-0.28586712  0.01532666] False\n",
            "-1.0 [-0.2711761   0.01469103] False\n",
            "-1.0 [-0.25720242  0.01397368] False\n",
            "-1.0 [-0.24402072  0.0131817 ] False\n",
            "-1.0 [-0.2316985   0.01232221] False\n",
            "-1.0 [-0.22029628  0.01140223] False\n",
            "-1.0 [-0.20986767  0.01042861] False\n",
            "-1.0 [-0.2004597   0.00940796] False\n",
            "-1.0 [-0.19211315  0.00834657] False\n",
            "-1.0 [-0.18486273  0.00725041] False\n",
            "-1.0 [-0.17873763  0.00612511] False\n",
            "-1.0 [-0.17376164  0.00497599] False\n",
            "-1.0 [-0.1699536   0.00380804] False\n",
            "-1.0 [-0.16732758  0.00262601] False\n",
            "-1.0 [-0.16589315  0.00143443] False\n",
            "-1.0 [-0.16565545  0.0002377 ] False\n",
            "-1.0 [-0.16661534 -0.00095988] False\n",
            "-1.0 [-0.16876936 -0.00215402] False\n",
            "-1.0 [-0.17210972 -0.00334037] False\n",
            "-1.0 [-0.1766242  -0.00451447] False\n",
            "-1.0 [-0.18229584 -0.00567165] False\n",
            "-1.0 [-0.18910286 -0.00680701] False\n",
            "-1.0 [-0.19701825 -0.00791539] False\n",
            "-1.0 [-0.20600952 -0.00899127] False\n",
            "-1.0 [-0.21603835 -0.01002883] False\n",
            "-1.0 [-0.22706023 -0.01102189] False\n",
            "-1.0 [-0.23902419 -0.01196396] False\n",
            "-1.0 [-0.25187248 -0.01284829] False\n",
            "-1.0 [-0.2655404  -0.01366791] False\n",
            "-1.0 [-0.27995613 -0.01441573] False\n",
            "-1.0 [-0.29504076 -0.01508463] False\n",
            "-1.0 [-0.31070837 -0.01566762] False\n",
            "-1.0 [-0.32686633 -0.01615794] False\n",
            "-1.0 [-0.3434156  -0.01654925] False\n",
            "-1.0 [-0.36025137 -0.01683577] False\n",
            "-1.0 [-0.37726378 -0.01701243] False\n",
            "-1.0 [-0.39433882 -0.01707503] False\n",
            "-1.0 [-0.4113592  -0.01702036] False\n",
            "-1.0 [-0.42820552 -0.01684634] False\n",
            "-1.0 [-0.44475758 -0.01655207] False\n",
            "-1.0 [-0.46089548 -0.01613788] False\n",
            "-1.0 [-0.47650084 -0.01560538] False\n",
            "-1.0 [-0.4914583  -0.01495744] False\n",
            "-1.0 [-0.5056564  -0.01419812] False\n",
            "-1.0 [-0.518989   -0.01333263] False\n",
            "-1.0 [-0.5313563 -0.0123672] False\n",
            "-1.0 [-0.54266524 -0.01130902] False\n",
            "-1.0 [-0.55283135 -0.0101661 ] False\n",
            "-1.0 [-0.5617785  -0.00894714] False\n",
            "-1.0 [-0.56943995 -0.00766142] False\n",
            "-1.0 [-0.57575864 -0.00631869] False\n",
            "-1.0 [-0.5806877  -0.00492909] False\n",
            "-1.0 [-0.5841907  -0.00350301] False\n",
            "-1.0 [-0.5862418  -0.00205107] False\n",
            "-1.0 [-5.868258e-01 -5.840067e-04] False\n",
            "-1.0 [-0.58593845  0.00088736] False\n",
            "-1.0 [-0.5835863   0.00235218] False\n",
            "-1.0 [-0.5797866   0.00379967] False\n",
            "-1.0 [-0.5745675   0.00521908] False\n",
            "-1.0 [-0.56796765  0.00659986] False\n",
            "-1.0 [-0.560036    0.00793164] False\n",
            "-1.0 [-0.5508316   0.00920438] False\n",
            "-1.0 [-0.5404232  0.0104084] False\n",
            "-1.0 [-0.5288887   0.01153453] False\n",
            "-1.0 [-0.5163145  0.0125742] False\n",
            "-1.0 [-0.5027949   0.01351957] False\n",
            "-1.0 [-0.48843127  0.01436365] False\n",
            "-1.0 [-0.4733309   0.01510038] False\n",
            "-1.0 [-0.4576061  0.0157248] False\n",
            "-1.0 [-0.44137302  0.01623308] False\n",
            "-1.0 [-0.4247504   0.01662262] False\n",
            "-1.0 [-0.4078583   0.01689208] False\n",
            "-1.0 [-0.39081696  0.01704136] False\n",
            "-1.0 [-0.37374535  0.01707163] False\n",
            "-1.0 [-0.35676014  0.0169852 ] False\n",
            "-1.0 [-0.33997464  0.01678551] False\n",
            "-1.0 [-0.3234977   0.01647693] False\n",
            "-1.0 [-0.307433   0.0160647] False\n",
            "-1.0 [-0.29187828  0.01555472] False\n",
            "-1.0 [-0.27692485  0.01495345] False\n",
            "-1.0 [-0.26265714  0.01426769] False\n",
            "-1.0 [-0.24915266  0.01350448] False\n",
            "-1.0 [-0.23648174  0.01267093] False\n",
            "-1.0 [-0.22470762  0.01177412] False\n",
            "-1.0 [-0.21388663  0.01082098] False\n",
            "-1.0 [-0.2040684   0.00981823] False\n",
            "-1.0 [-0.19529614  0.00877227] False\n",
            "-1.0 [-0.18760692  0.00768922] False\n",
            "-1.0 [-0.18103209  0.00657483] False\n",
            "-1.0 [-0.17559753  0.00543455] False\n",
            "-1.0 [-0.17132404  0.00427349] False\n",
            "-1.0 [-0.16822755  0.00309649] False\n",
            "-1.0 [-0.16631939  0.00190817] False\n",
            "-1.0 [-0.16560641  0.00071297] False\n",
            "-1.0 [-0.16609119 -0.00048479] False\n",
            "-1.0 [-0.16777201 -0.00168081] False\n",
            "-1.0 [-0.17064278 -0.00287078] False\n",
            "-1.0 [-0.17469306 -0.00405028] False\n",
            "-1.0 [-0.17990781 -0.00521475] False\n",
            "-1.0 [-0.18626718 -0.00635937] False\n",
            "-1.0 [-0.19374628 -0.0074791 ] False\n",
            "-1.0 [-0.20231484 -0.00856856] False\n",
            "-1.0 [-0.21193689 -0.00962204] False\n",
            "-1.0 [-0.2225704  -0.01063352] False\n",
            "-1.0 [-0.23416704 -0.01159662] False\n",
            "-1.0 [-0.24667174 -0.01250469] False\n",
            "-1.0 [-0.26002258 -0.01335084] False\n",
            "-1.0 [-0.27415058 -0.01412801] False\n",
            "-1.0 [-0.28897965 -0.01482907] False\n",
            "-1.0 [-0.30442664 -0.01544698] False\n",
            "-1.0 [-0.3204015  -0.01597486] False\n",
            "-1.0 [-0.3368077 -0.0164062] False\n",
            "-1.0 [-0.35354263 -0.01673495] False\n",
            "-1.0 [-0.3704984  -0.01695576] False\n",
            "-1.0 [-0.38756245 -0.01706406] False\n",
            "-1.0 [-0.4046187  -0.01705625] False\n",
            "-1.0 [-0.4215485  -0.01692977] False\n",
            "-1.0 [-0.43823174 -0.01668325] False\n",
            "-1.0 [-0.45454827 -0.01631653] False\n",
            "-1.0 [-0.47037897 -0.01583071] False\n",
            "-1.0 [-0.48560715 -0.01522817] False\n",
            "-1.0 [-0.5001196  -0.01451249] False\n",
            "-1.0 [-0.5138081  -0.01368843] False\n",
            "-1.0 [-0.5265699  -0.01276185] False\n",
            "-1.0 [-0.53830945 -0.01173957] False\n",
            "-1.0 [-0.54893875 -0.01062928] False\n",
            "-1.0 [-0.55837816 -0.00943941] False\n",
            "-1.0 [-0.5665572  -0.00817904] False\n",
            "-1.0 [-0.5734149  -0.00685774] False\n",
            "-1.0 [-0.57890046 -0.00548551] False\n",
            "-1.0 [-0.5829731  -0.00407265] False\n",
            "-1.0 [-0.58560276 -0.00262969] False\n",
            "-1.0 [-0.5867701  -0.00116734] False\n",
            "-1.0 [-5.8646649e-01  3.0361846e-04] False\n",
            "-1.0 [-0.58469415  0.00177234] False\n",
            "-1.0 [-0.5814662   0.00322799] False\n",
            "-1.0 [-0.57680637  0.00465982] False\n",
            "-1.0 [-0.57074916  0.00605718] False\n",
            "-1.0 [-0.56333953  0.00740963] False\n",
            "-1.0 [-0.55463254  0.00870698] False\n",
            "-1.0 [-0.5446932  0.0099394] False\n",
            "-1.0 [-0.5335957  0.0110975] False\n",
            "-1.0 [-0.52142316  0.01217247] False\n",
            "-1.0 [-0.50826705  0.01315615] False\n",
            "-1.0 [-0.49422583  0.0140412 ] False\n",
            "-1.0 [-0.47940463  0.01482119] False\n",
            "-1.0 [-0.46391392  0.01549071] False\n",
            "-1.0 [-0.44786847  0.01604546] False\n",
            "-1.0 [-0.4313861   0.01648236] False\n",
            "-1.0 [-0.41458657  0.01679955] False\n",
            "-1.0 [-0.39759013  0.01699645] False\n",
            "-1.0 [-0.38051638  0.01707374] False\n",
            "-1.0 [-0.36348313  0.01703327] False\n",
            "-1.0 [-0.34660506  0.01687805] False\n",
            "-1.0 [-0.32999295  0.0166121 ] False\n",
            "-1.0 [-0.31375262  0.01624033] False\n",
            "-1.0 [-0.2979842   0.01576841] False\n",
            "-1.0 [-0.28278166  0.01520257] False\n",
            "-1.0 [-0.26823217  0.0145495 ] False\n",
            "-1.0 [-0.254416    0.01381618] False\n",
            "-1.0 [-0.24140629  0.01300969] False\n",
            "-1.0 [-0.22926915  0.01213715] False\n",
            "-1.0 [-0.2180636   0.01120555] False\n",
            "-1.0 [-0.2078419  0.0102217] False\n",
            "-1.0 [-0.19864976  0.00919213] False\n",
            "-1.0 [-0.19052666  0.00812309] False\n",
            "-1.0 [-0.18350619  0.00702048] False\n",
            "-1.0 [-0.17761636  0.00588984] False\n",
            "-1.0 [-0.17287992  0.00473643] False\n",
            "-1.0 [-0.16931473  0.0035652 ] False\n",
            "-1.0 [-0.1669339   0.00238083] False\n",
            "-1.0 [-0.16574605  0.00118784] False\n",
            "-1.0 [-1.6575547e-01 -9.4204479e-06] False\n",
            "-1.0 [-0.16696212 -0.00120665] False\n",
            "-1.0 [-0.16936165 -0.00239954] False\n",
            "-1.0 [-0.17294538 -0.00358373] False\n",
            "-1.0 [-0.17770012 -0.00475472] True\n"
          ]
        }
      ]
    },
    {
      "cell_type": "markdown",
      "source": [
        "Q-Learning é baseado em fazer update dos valores de Q-Values numa Q-Table que são os valores por ação possível por passo para cado comibnação do espaço de observação.\n",
        "\n",
        "Se virmos em cima, o ***reward*** é sempre -1. Quando a task é realizado obtemos o ***reward*** é 0.\n",
        "\n",
        "Also, the state of the agent is granular to 8 decimals. So if we take all the possible values for the combination of observation space samples the Q-table is going to be huge and less meaningful. So for this we take window size for a range of observation values."
      ],
      "metadata": {
        "id": "9--5qfQXv2QV"
      }
    },
    {
      "cell_type": "code",
      "source": [
        "# converting granular observation samples to discrete values\n",
        "DISCRETE_OS_SIZE = [20] * len(env.observation_space.low)\n",
        "DISCRETE_OS_SIZE\n"
      ],
      "metadata": {
        "id": "SvUVOnk3QEex",
        "colab": {
          "base_uri": "https://localhost:8080/"
        },
        "outputId": "326e1c94-619f-4161-a7b4-2ed7a5397864"
      },
      "execution_count": 12,
      "outputs": [
        {
          "output_type": "execute_result",
          "data": {
            "text/plain": [
              "[20, 20]"
            ]
          },
          "metadata": {},
          "execution_count": 12
        }
      ]
    },
    {
      "cell_type": "code",
      "source": [
        "# the window size of each observation\n",
        "discrete_os_win_size = (env.observation_space.high - env.observation_space.low)/DISCRETE_OS_SIZE\n",
        "discrete_os_win_size"
      ],
      "metadata": {
        "colab": {
          "base_uri": "https://localhost:8080/"
        },
        "id": "mgoq8DKRx9mY",
        "outputId": "0c4c8ce9-403e-48a9-801d-337c1d7daec4"
      },
      "execution_count": 13,
      "outputs": [
        {
          "output_type": "execute_result",
          "data": {
            "text/plain": [
              "array([0.09 , 0.007])"
            ]
          },
          "metadata": {},
          "execution_count": 13
        }
      ]
    },
    {
      "cell_type": "markdown",
      "source": [
        "O espaço da posição é de tamanho de bin 0.09 e velocidade 0.007"
      ],
      "metadata": {
        "id": "Io0Zd9C5yH-P"
      }
    }
  ]
}